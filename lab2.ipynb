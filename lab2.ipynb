{
 "cells": [
  {
   "cell_type": "markdown",
   "metadata": {},
   "source": [
    "### Лабораторная работа №2\n",
    "\n",
    "# Методы снижения размерности\n",
    "\n",
    "Седунов Илья, <br>\n",
    "Альперович Вадим, <br>\n",
    "МАГ-ИАД21."
   ]
  },
  {
   "cell_type": "code",
   "execution_count": 2,
   "metadata": {},
   "outputs": [],
   "source": [
    "import numpy as np\n",
    "import pandas as pd\n",
    "import matplotlib.pyplot as plt\n",
    "import seaborn as sns\n",
    "\n",
    "from tqdm import tqdm_notebook\n",
    "\n",
    "import warnings\n",
    "warnings.simplefilter('ignore')\n",
    "sns.set(style=\"darkgrid\")"
   ]
  },
  {
   "cell_type": "markdown",
   "metadata": {},
   "source": [
    "# 1. Data"
   ]
  },
  {
   "cell_type": "markdown",
   "metadata": {},
   "source": [
    "Выполнить первичную обработку данных. Сделать первые выводы."
   ]
  },
  {
   "cell_type": "markdown",
   "metadata": {},
   "source": [
    "## 1.1 Data loading"
   ]
  },
  {
   "cell_type": "markdown",
   "metadata": {},
   "source": [
    "|col 1 |col 2 |col 3 |col 4 |col 5 |col 6 |\n",
    "| - | - | - | - | - | -|\n",
    "| Возраст (лет)  | Количество иждивенцев     | Доход (руб./мес.)| Срок проживания в регионе (лет) | Оценка автомобиля заемщика (USD) | Размер кредита (тыс. руб.)|\n",
    "| age  | dependents | income| residence | car_valuation | loan_amount |\n"
   ]
  },
  {
   "cell_type": "code",
   "execution_count": 3,
   "metadata": {},
   "outputs": [
    {
     "name": "stdout",
     "output_type": "stream",
     "text": [
      "Wall time: 47.9 ms\n"
     ]
    }
   ],
   "source": [
    "%%time\n",
    "columns = ['age', 'dependents', 'income', 'residence', 'car_valuation', 'loan_amount']\n",
    "df = pd.read_excel('data/HW_2_v7.xls', \n",
    "                   header=None,\n",
    "                   names=columns\n",
    "                  )"
   ]
  },
  {
   "cell_type": "code",
   "execution_count": 4,
   "metadata": {},
   "outputs": [
    {
     "data": {
      "text/html": [
       "<div>\n",
       "<style scoped>\n",
       "    .dataframe tbody tr th:only-of-type {\n",
       "        vertical-align: middle;\n",
       "    }\n",
       "\n",
       "    .dataframe tbody tr th {\n",
       "        vertical-align: top;\n",
       "    }\n",
       "\n",
       "    .dataframe thead th {\n",
       "        text-align: right;\n",
       "    }\n",
       "</style>\n",
       "<table border=\"1\" class=\"dataframe\">\n",
       "  <thead>\n",
       "    <tr style=\"text-align: right;\">\n",
       "      <th></th>\n",
       "      <th>age</th>\n",
       "      <th>dependents</th>\n",
       "      <th>income</th>\n",
       "      <th>residence</th>\n",
       "      <th>car_valuation</th>\n",
       "      <th>loan_amount</th>\n",
       "    </tr>\n",
       "  </thead>\n",
       "  <tbody>\n",
       "    <tr>\n",
       "      <th>0</th>\n",
       "      <td>54</td>\n",
       "      <td>3</td>\n",
       "      <td>16700</td>\n",
       "      <td>18</td>\n",
       "      <td>18000</td>\n",
       "      <td>177000</td>\n",
       "    </tr>\n",
       "    <tr>\n",
       "      <th>1</th>\n",
       "      <td>36</td>\n",
       "      <td>2</td>\n",
       "      <td>33800</td>\n",
       "      <td>6</td>\n",
       "      <td>34000</td>\n",
       "      <td>337000</td>\n",
       "    </tr>\n",
       "    <tr>\n",
       "      <th>2</th>\n",
       "      <td>37</td>\n",
       "      <td>1</td>\n",
       "      <td>12900</td>\n",
       "      <td>9</td>\n",
       "      <td>12000</td>\n",
       "      <td>126000</td>\n",
       "    </tr>\n",
       "    <tr>\n",
       "      <th>3</th>\n",
       "      <td>44</td>\n",
       "      <td>2</td>\n",
       "      <td>17700</td>\n",
       "      <td>13</td>\n",
       "      <td>18000</td>\n",
       "      <td>180000</td>\n",
       "    </tr>\n",
       "    <tr>\n",
       "      <th>4</th>\n",
       "      <td>54</td>\n",
       "      <td>4</td>\n",
       "      <td>20000</td>\n",
       "      <td>19</td>\n",
       "      <td>22000</td>\n",
       "      <td>211000</td>\n",
       "    </tr>\n",
       "  </tbody>\n",
       "</table>\n",
       "</div>"
      ],
      "text/plain": [
       "   age  dependents  income  residence  car_valuation  loan_amount\n",
       "0   54           3   16700         18          18000       177000\n",
       "1   36           2   33800          6          34000       337000\n",
       "2   37           1   12900          9          12000       126000\n",
       "3   44           2   17700         13          18000       180000\n",
       "4   54           4   20000         19          22000       211000"
      ]
     },
     "execution_count": 4,
     "metadata": {},
     "output_type": "execute_result"
    }
   ],
   "source": [
    "df.head()"
   ]
  },
  {
   "cell_type": "markdown",
   "metadata": {},
   "source": [
    "## 1.2 EDA"
   ]
  },
  {
   "cell_type": "markdown",
   "metadata": {},
   "source": [
    "**Simple stats**"
   ]
  },
  {
   "cell_type": "code",
   "execution_count": 5,
   "metadata": {},
   "outputs": [
    {
     "name": "stdout",
     "output_type": "stream",
     "text": [
      "Rows count: 50 Cols num: 6\n"
     ]
    }
   ],
   "source": [
    "print(f'Rows count: {len(df)} Cols num: {df.shape[1]}')"
   ]
  },
  {
   "cell_type": "code",
   "execution_count": 6,
   "metadata": {},
   "outputs": [
    {
     "name": "stdout",
     "output_type": "stream",
     "text": [
      "<class 'pandas.core.frame.DataFrame'>\n",
      "RangeIndex: 50 entries, 0 to 49\n",
      "Data columns (total 6 columns):\n",
      " #   Column         Non-Null Count  Dtype\n",
      "---  ------         --------------  -----\n",
      " 0   age            50 non-null     int64\n",
      " 1   dependents     50 non-null     int64\n",
      " 2   income         50 non-null     int64\n",
      " 3   residence      50 non-null     int64\n",
      " 4   car_valuation  50 non-null     int64\n",
      " 5   loan_amount    50 non-null     int64\n",
      "dtypes: int64(6)\n",
      "memory usage: 2.5 KB\n",
      "None\n"
     ]
    }
   ],
   "source": [
    "print(df.info())"
   ]
  },
  {
   "cell_type": "code",
   "execution_count": 7,
   "metadata": {},
   "outputs": [
    {
     "data": {
      "text/html": [
       "<div>\n",
       "<style scoped>\n",
       "    .dataframe tbody tr th:only-of-type {\n",
       "        vertical-align: middle;\n",
       "    }\n",
       "\n",
       "    .dataframe tbody tr th {\n",
       "        vertical-align: top;\n",
       "    }\n",
       "\n",
       "    .dataframe thead th {\n",
       "        text-align: right;\n",
       "    }\n",
       "</style>\n",
       "<table border=\"1\" class=\"dataframe\">\n",
       "  <thead>\n",
       "    <tr style=\"text-align: right;\">\n",
       "      <th></th>\n",
       "      <th>age</th>\n",
       "      <th>dependents</th>\n",
       "      <th>income</th>\n",
       "      <th>residence</th>\n",
       "      <th>car_valuation</th>\n",
       "      <th>loan_amount</th>\n",
       "    </tr>\n",
       "  </thead>\n",
       "  <tbody>\n",
       "    <tr>\n",
       "      <th>count</th>\n",
       "      <td>50.0</td>\n",
       "      <td>50.0</td>\n",
       "      <td>50.0</td>\n",
       "      <td>50.0</td>\n",
       "      <td>50.0</td>\n",
       "      <td>50.0</td>\n",
       "    </tr>\n",
       "    <tr>\n",
       "      <th>mean</th>\n",
       "      <td>40.0</td>\n",
       "      <td>2.0</td>\n",
       "      <td>19992.0</td>\n",
       "      <td>10.0</td>\n",
       "      <td>20060.0</td>\n",
       "      <td>199960.0</td>\n",
       "    </tr>\n",
       "    <tr>\n",
       "      <th>std</th>\n",
       "      <td>8.0</td>\n",
       "      <td>1.0</td>\n",
       "      <td>10002.1</td>\n",
       "      <td>5.0</td>\n",
       "      <td>10096.3</td>\n",
       "      <td>100021.8</td>\n",
       "    </tr>\n",
       "    <tr>\n",
       "      <th>min</th>\n",
       "      <td>24.0</td>\n",
       "      <td>0.0</td>\n",
       "      <td>1500.0</td>\n",
       "      <td>0.0</td>\n",
       "      <td>0.0</td>\n",
       "      <td>4000.0</td>\n",
       "    </tr>\n",
       "    <tr>\n",
       "      <th>25%</th>\n",
       "      <td>35.0</td>\n",
       "      <td>1.2</td>\n",
       "      <td>12600.0</td>\n",
       "      <td>6.0</td>\n",
       "      <td>13000.0</td>\n",
       "      <td>126500.0</td>\n",
       "    </tr>\n",
       "    <tr>\n",
       "      <th>50%</th>\n",
       "      <td>40.0</td>\n",
       "      <td>2.0</td>\n",
       "      <td>17900.0</td>\n",
       "      <td>10.0</td>\n",
       "      <td>18500.0</td>\n",
       "      <td>183000.0</td>\n",
       "    </tr>\n",
       "    <tr>\n",
       "      <th>75%</th>\n",
       "      <td>46.0</td>\n",
       "      <td>2.8</td>\n",
       "      <td>29075.0</td>\n",
       "      <td>14.0</td>\n",
       "      <td>29750.0</td>\n",
       "      <td>293000.0</td>\n",
       "    </tr>\n",
       "    <tr>\n",
       "      <th>max</th>\n",
       "      <td>56.0</td>\n",
       "      <td>4.0</td>\n",
       "      <td>43300.0</td>\n",
       "      <td>19.0</td>\n",
       "      <td>44000.0</td>\n",
       "      <td>437000.0</td>\n",
       "    </tr>\n",
       "  </tbody>\n",
       "</table>\n",
       "</div>"
      ],
      "text/plain": [
       "        age  dependents   income  residence  car_valuation  loan_amount\n",
       "count  50.0        50.0     50.0       50.0           50.0         50.0\n",
       "mean   40.0         2.0  19992.0       10.0        20060.0     199960.0\n",
       "std     8.0         1.0  10002.1        5.0        10096.3     100021.8\n",
       "min    24.0         0.0   1500.0        0.0            0.0       4000.0\n",
       "25%    35.0         1.2  12600.0        6.0        13000.0     126500.0\n",
       "50%    40.0         2.0  17900.0       10.0        18500.0     183000.0\n",
       "75%    46.0         2.8  29075.0       14.0        29750.0     293000.0\n",
       "max    56.0         4.0  43300.0       19.0        44000.0     437000.0"
      ]
     },
     "execution_count": 7,
     "metadata": {},
     "output_type": "execute_result"
    }
   ],
   "source": [
    "np.around(df.describe(), 1)"
   ]
  },
  {
   "cell_type": "markdown",
   "metadata": {},
   "source": [
    "**Charts & dists**"
   ]
  },
  {
   "cell_type": "code",
   "execution_count": 8,
   "metadata": {},
   "outputs": [
    {
     "data": {
      "image/png": "[encoded data removed]",
      "text/plain": [
       "<Figure size 864x504 with 6 Axes>"
      ]
     },
     "metadata": {},
     "output_type": "display_data"
    }
   ],
   "source": [
    "fig, axes = plt.subplots(nrows=2, ncols=3) \n",
    "axes = axes.flatten()        \n",
    "fig.set_size_inches(12, 7)\n",
    "\n",
    "for ax, col in zip(axes, df.columns):\n",
    "    sns.distplot(df[col], ax = ax, bins=10)\n",
    "fig.tight_layout()"
   ]
  },
  {
   "cell_type": "code",
   "execution_count": 9,
   "metadata": {},
   "outputs": [
    {
     "data": {
      "image/png": "[encoded data removed]",
      "text/plain": [
       "<Figure size 792x576 with 42 Axes>"
      ]
     },
     "metadata": {},
     "output_type": "display_data"
    }
   ],
   "source": [
    "g = sns.pairplot(data=df, diag_kind=\"kde\")\n",
    "g.fig.set_figwidth(11)\n",
    "g.fig.set_figheight(8)\n",
    "pass"
   ]
  },
  {
   "cell_type": "code",
   "execution_count": 10,
   "metadata": {},
   "outputs": [
    {
     "data": {
      "image/png": "[encoded data removed]",
      "text/plain": [
       "<Figure size 504x360 with 2 Axes>"
      ]
     },
     "metadata": {},
     "output_type": "display_data"
    }
   ],
   "source": [
    "corr = df.corr(method='pearson')\n",
    "plt.figure(figsize=(7, 5))\n",
    "sns.heatmap(corr, cmap=\"Blues\", annot=True)\n",
    "pass"
   ]
  },
  {
   "cell_type": "markdown",
   "metadata": {},
   "source": [
    "# 2. Dimensionality reduction via PCA"
   ]
  },
  {
   "cell_type": "markdown",
   "metadata": {},
   "source": [
    "- Выполнить центрирование данных и такую нормировку, что евклидова норма каждого признака\n",
    "равна 1 (полученная матрица обозначается через Z).\n",
    "- Найти SVD разложение матрицы Z (матрицы U, S, V). Докажите, что при выбранной\n",
    "нормировке, коэффициенты разложения столбцов матрицы Z по скрытым факторам являются\n",
    "корреляциями этих столбцов и скрытых факторов.\n",
    "- Исследуйте, сколько скрытых факторов (главные факторы) достаточно для хорошей\n",
    "аппроксимации матрицы данных Z. Заменить значения исходных признаков линейными\n",
    "комбинациями главных факторов (матрица Z k , k – число главных факторов). Оценить\n",
    "погрешность аппроксимации в евклидовой матричной норме и норме Фробениуса.\n",
    "- Сравнить матрицы корреляций признаков для матрицы Z и матрицы Z k . Оценить качество\n",
    "аппроксимации по близости матриц корреляций (можно использовать относительную\n",
    "погрешность в одной из матричных норм)\n",
    "- Используя выделенные главные факторы, найти представления клиентов векторами меньшей\n",
    "размерности (размерности k).\n",
    "- Используя представление клиентов векторами меньшей размерности, построить карту\n",
    "клиентов. Сделать выводы о клиентах банка."
   ]
  },
  {
   "cell_type": "markdown",
   "metadata": {},
   "source": [
    "https://scikit-learn.org/stable/modules/generated/sklearn.preprocessing.normalize.html#sklearn.preprocessing.normalize\n",
    "https://scikit-learn.org/stable/modules/generated/sklearn.decomposition.TruncatedSVD.html\n",
    "https://scikit-learn.org/stable/modules/generated/sklearn.decomposition.PCA.html"
   ]
  },
  {
   "cell_type": "code",
   "execution_count": 11,
   "metadata": {},
   "outputs": [],
   "source": [
    "from sklearn.preprocessing import StandardScaler, normalize\n",
    "from sklearn.decomposition import PCA, TruncatedSVD"
   ]
  },
  {
   "cell_type": "markdown",
   "metadata": {},
   "source": [
    "**Data normalization**\n",
    "\n",
    "*Выполнить центрирование данных и такую нормировку, что евклидова норма каждого признака равна 1*"
   ]
  },
  {
   "cell_type": "code",
   "execution_count": 12,
   "metadata": {},
   "outputs": [
    {
     "data": {
      "text/html": [
       "<div>\n",
       "<style scoped>\n",
       "    .dataframe tbody tr th:only-of-type {\n",
       "        vertical-align: middle;\n",
       "    }\n",
       "\n",
       "    .dataframe tbody tr th {\n",
       "        vertical-align: top;\n",
       "    }\n",
       "\n",
       "    .dataframe thead th {\n",
       "        text-align: right;\n",
       "    }\n",
       "</style>\n",
       "<table border=\"1\" class=\"dataframe\">\n",
       "  <thead>\n",
       "    <tr style=\"text-align: right;\">\n",
       "      <th></th>\n",
       "      <th>age</th>\n",
       "      <th>dependents</th>\n",
       "      <th>income</th>\n",
       "      <th>residence</th>\n",
       "      <th>car_valuation</th>\n",
       "      <th>loan_amount</th>\n",
       "    </tr>\n",
       "  </thead>\n",
       "  <tbody>\n",
       "    <tr>\n",
       "      <th>0</th>\n",
       "      <td>0.187243</td>\n",
       "      <td>0.19245</td>\n",
       "      <td>0.105862</td>\n",
       "      <td>0.22752</td>\n",
       "      <td>0.113581</td>\n",
       "      <td>0.112182</td>\n",
       "    </tr>\n",
       "    <tr>\n",
       "      <th>1</th>\n",
       "      <td>0.124829</td>\n",
       "      <td>0.12830</td>\n",
       "      <td>0.214259</td>\n",
       "      <td>0.07584</td>\n",
       "      <td>0.214542</td>\n",
       "      <td>0.213590</td>\n",
       "    </tr>\n",
       "    <tr>\n",
       "      <th>2</th>\n",
       "      <td>0.128296</td>\n",
       "      <td>0.06415</td>\n",
       "      <td>0.081773</td>\n",
       "      <td>0.11376</td>\n",
       "      <td>0.075721</td>\n",
       "      <td>0.079859</td>\n",
       "    </tr>\n",
       "    <tr>\n",
       "      <th>3</th>\n",
       "      <td>0.152568</td>\n",
       "      <td>0.12830</td>\n",
       "      <td>0.112201</td>\n",
       "      <td>0.16432</td>\n",
       "      <td>0.113581</td>\n",
       "      <td>0.114084</td>\n",
       "    </tr>\n",
       "    <tr>\n",
       "      <th>4</th>\n",
       "      <td>0.187243</td>\n",
       "      <td>0.25660</td>\n",
       "      <td>0.126780</td>\n",
       "      <td>0.24016</td>\n",
       "      <td>0.138821</td>\n",
       "      <td>0.133732</td>\n",
       "    </tr>\n",
       "  </tbody>\n",
       "</table>\n",
       "</div>"
      ],
      "text/plain": [
       "        age  dependents    income  residence  car_valuation  loan_amount\n",
       "0  0.187243     0.19245  0.105862    0.22752       0.113581     0.112182\n",
       "1  0.124829     0.12830  0.214259    0.07584       0.214542     0.213590\n",
       "2  0.128296     0.06415  0.081773    0.11376       0.075721     0.079859\n",
       "3  0.152568     0.12830  0.112201    0.16432       0.113581     0.114084\n",
       "4  0.187243     0.25660  0.126780    0.24016       0.138821     0.133732"
      ]
     },
     "execution_count": 12,
     "metadata": {},
     "output_type": "execute_result"
    }
   ],
   "source": [
    "Z = normalize(df, norm='l2', axis=0) \n",
    "df_normalized = pd.DataFrame(Z, columns=df.columns)\n",
    "df_normalized.head()"
   ]
  },
  {
   "cell_type": "code",
   "execution_count": 13,
   "metadata": {},
   "outputs": [],
   "source": [
    "# np.around(df_normalized.describe(), 1)"
   ]
  },
  {
   "cell_type": "code",
   "execution_count": 13,
   "metadata": {},
   "outputs": [
    {
     "name": "stdout",
     "output_type": "stream",
     "text": [
      "age l2-norm: 1.0\n",
      "dependents l2-norm: 1.0\n",
      "income l2-norm: 1.0\n",
      "residence l2-norm: 1.0\n",
      "car_valuation l2-norm: 1.0\n",
      "loan_amount l2-norm: 1.0\n"
     ]
    }
   ],
   "source": [
    "for col in df_normalized.columns:\n",
    "    print(col, f'l2-norm: {round(np.linalg.norm(df_normalized[col], ord=2), 1)}')"
   ]
  },
  {
   "cell_type": "markdown",
   "metadata": {},
   "source": [
    "**SVD**\n",
    "\n",
    "- *Найти SVD разложение матрицы Z (матрицы U, S, V).*\n",
    "- *Докажите, что при выбранной нормировке, коэффициенты разложения столбцов матрицы Z по скрытым факторам являются корреляциями этих столбцов и скрытых факторов.*"
   ]
  },
  {
   "cell_type": "code",
   "execution_count": 14,
   "metadata": {},
   "outputs": [],
   "source": [
    "from scipy.linalg import svd \n",
    "\n",
    "U, S, VT = np.linalg.svd(df_normalized,  full_matrices=False,  compute_uv=True)"
   ]
  },
  {
   "cell_type": "code",
   "execution_count": 15,
   "metadata": {},
   "outputs": [
    {
     "name": "stdout",
     "output_type": "stream",
     "text": [
      "Feature Z_0 and Component U_0\n",
      "\tEqual: -0.96 == -0.96\n",
      "Feature Z_0 and Component U_1\n",
      "\tEqual: -0.22 == -0.22\n",
      "Feature Z_0 and Component U_2\n",
      "\tEqual: 0.14 == 0.14\n",
      "Feature Z_0 and Component U_3\n",
      "\tEqual: -0.04 == -0.04\n",
      "Feature Z_0 and Component U_4\n",
      "\tEqual: -0.00 == -0.00\n",
      "Feature Z_0 and Component U_5\n",
      "\tEqual: 0.00 == 0.00\n",
      "Feature Z_1 and Component U_0\n",
      "\tEqual: -0.96 == -0.96\n",
      "Feature Z_1 and Component U_1\n",
      "\tEqual: -0.20 == -0.20\n",
      "Feature Z_1 and Component U_2\n",
      "\tEqual: -0.17 == -0.17\n",
      "Feature Z_1 and Component U_3\n",
      "\tEqual: -0.03 == -0.03\n",
      "Feature Z_1 and Component U_4\n",
      "\tEqual: 0.00 == 0.00\n",
      "Feature Z_1 and Component U_5\n",
      "\tEqual: -0.00 == -0.00\n",
      "Feature Z_2 and Component U_0\n",
      "\tEqual: -0.96 == -0.96\n",
      "Feature Z_2 and Component U_1\n",
      "\tEqual: 0.29 == 0.29\n",
      "Feature Z_2 and Component U_2\n",
      "\tEqual: 0.02 == 0.02\n",
      "Feature Z_2 and Component U_3\n",
      "\tEqual: -0.00 == -0.00\n",
      "Feature Z_2 and Component U_4\n",
      "\tEqual: 0.00 == 0.00\n",
      "Feature Z_2 and Component U_5\n",
      "\tEqual: -0.00 == -0.00\n",
      "Feature Z_3 and Component U_0\n",
      "\tEqual: -0.90 == -0.90\n",
      "Feature Z_3 and Component U_1\n",
      "\tEqual: -0.44 == -0.44\n",
      "Feature Z_3 and Component U_2\n",
      "\tEqual: 0.02 == 0.02\n",
      "Feature Z_3 and Component U_3\n",
      "\tEqual: 0.05 == 0.05\n",
      "Feature Z_3 and Component U_4\n",
      "\tEqual: 0.00 == 0.00\n",
      "Feature Z_3 and Component U_5\n",
      "\tEqual: -0.00 == -0.00\n",
      "Feature Z_4 and Component U_0\n",
      "\tEqual: -0.96 == -0.96\n",
      "Feature Z_4 and Component U_1\n",
      "\tEqual: 0.27 == 0.27\n",
      "Feature Z_4 and Component U_2\n",
      "\tEqual: -0.01 == -0.01\n",
      "Feature Z_4 and Component U_3\n",
      "\tEqual: 0.01 == 0.01\n",
      "Feature Z_4 and Component U_4\n",
      "\tEqual: -0.01 == -0.01\n",
      "Feature Z_4 and Component U_5\n",
      "\tEqual: -0.00 == -0.00\n",
      "Feature Z_5 and Component U_0\n",
      "\tEqual: -0.96 == -0.96\n",
      "Feature Z_5 and Component U_1\n",
      "\tEqual: 0.28 == 0.28\n",
      "Feature Z_5 and Component U_2\n",
      "\tEqual: 0.00 == 0.00\n",
      "Feature Z_5 and Component U_3\n",
      "\tEqual: 0.01 == 0.01\n",
      "Feature Z_5 and Component U_4\n",
      "\tEqual: 0.00 == 0.00\n",
      "Feature Z_5 and Component U_5\n",
      "\tEqual: 0.00 == 0.00\n"
     ]
    }
   ],
   "source": [
    "from math import isclose\n",
    "\n",
    "for i in range(Z.shape[1]):\n",
    "    for j in range(U.shape[1]):\n",
    "        corr_Zi_Uj = np.correlate(Z[:, i], U[:, j])[0]\n",
    "        svd_coef = VT[j, i] * S[j]\n",
    "        print(f'Feature Z_{i} and Component U_{j}')\n",
    "        if isclose(corr_Zi_Uj, svd_coef):\n",
    "            print(f'\\tEqual: {corr_Zi_Uj:.2f} == {svd_coef:.2f}')\n",
    "        else:\n",
    "            print('\\tNot equal')"
   ]
  },
  {
   "cell_type": "markdown",
   "metadata": {},
   "source": [
    "- *Исследуйте, сколько скрытых факторов (главные факторы) достаточно для хорошей аппроксимации матрицы данных Z. Заменить значения исходных признаков линейными комбинациями главных факторов (матрица Z k , k – число главных факторов).*\n",
    "- *Оценить погрешность аппроксимации в евклидовой матричной норме и норме Фробениуса.*"
   ]
  },
  {
   "cell_type": "code",
   "execution_count": 16,
   "metadata": {},
   "outputs": [
    {
     "name": "stdout",
     "output_type": "stream",
     "text": [
      "Singular values: [2.33 0.72 0.22 0.07 0.01 0.  ]\n",
      "Sqr singular values: [5.43 0.52 0.05 0.   0.   0.  ]\n",
      "Total variance: 6.00\n",
      "Explained variances: [0.91 0.09 0.01 0.   0.   0.  ]\n"
     ]
    }
   ],
   "source": [
    "print(f'Singular values: {np.around(S, 2)}')\n",
    "sqr_singular_values = S ** 2\n",
    "print(f'Sqr singular values: {np.around(sqr_singular_values, 2)}')\n",
    "total_variance = np.sum(sqr_singular_values)\n",
    "print(f'Total variance: {total_variance:.2f}')\n",
    "explained_variances = S ** 2 / total_variance\n",
    "print(f'Explained variances: {np.around(explained_variances, 2)}')"
   ]
  },
  {
   "cell_type": "code",
   "execution_count": 17,
   "metadata": {},
   "outputs": [
    {
     "name": "stdout",
     "output_type": "stream",
     "text": [
      "Explained variance (via 2 components): 100.0%\n"
     ]
    }
   ],
   "source": [
    "explained_var_2comp = np.sum(explained_variances)\n",
    "print(f'Explained variance (via 2 components): {explained_var_2comp * 100:.1f}%')"
   ]
  },
  {
   "cell_type": "code",
   "execution_count": 18,
   "metadata": {},
   "outputs": [
    {
     "name": "stdout",
     "output_type": "stream",
     "text": [
      "Original Z matrix:\n",
      "[[0.19 0.19 0.11 0.23 0.11 0.11]\n",
      " [0.12 0.13 0.21 0.08 0.21 0.21]\n",
      " [0.13 0.06 0.08 0.11 0.08 0.08]\n",
      " [0.15 0.13 0.11 0.16 0.11 0.11]\n",
      " [0.19 0.26 0.13 0.24 0.14 0.13]]\n",
      "\n",
      "Approximated Z matrix by 2 components:\n",
      "[[0.2  0.19 0.11 0.22 0.11 0.11]\n",
      " [0.12 0.13 0.22 0.08 0.21 0.21]\n",
      " [0.1  0.1  0.08 0.11 0.08 0.08]\n",
      " [0.15 0.15 0.11 0.15 0.11 0.11]\n",
      " [0.22 0.22 0.13 0.24 0.14 0.13]]\n"
     ]
    }
   ],
   "source": [
    "K = 2\n",
    "Z_K = U.dot(np.diag(S)[:,:K].dot(VT[:K, :]))\n",
    "print('Original Z matrix:')\n",
    "print(np.around(Z[:5], 2))\n",
    "\n",
    "print('\\nApproximated Z matrix by 2 components:')\n",
    "print(np.around(Z_K[:5], 2))"
   ]
  },
  {
   "cell_type": "code",
   "execution_count": 19,
   "metadata": {},
   "outputs": [
    {
     "name": "stdout",
     "output_type": "stream",
     "text": [
      "Approx error in Fro norm: 0.054 (sigma3^2+...sigmaN^2=0.054)\n",
      "Approx error in Euclidian norm: 0.223 (sigma3=0.223)\n"
     ]
    }
   ],
   "source": [
    "Z_errors = Z - Z_K\n",
    "enorm_F = np.linalg.norm(Z_errors, ord='fro') ** 2\n",
    "enorm_2 = np.linalg.norm(Z_errors, ord=2)\n",
    "\n",
    "print(f'Approx error in Fro norm: {enorm_F:.3f} (sigma{K+1}^2+...sigmaN^2={np.sum(S[2:]**2):.3f})')\n",
    "print(f'Approx error in Euclidian norm: {enorm_2:.3f} (sigma{K+1}={S[K]:.3f})')"
   ]
  },
  {
   "cell_type": "code",
   "execution_count": 20,
   "metadata": {},
   "outputs": [
    {
     "name": "stdout",
     "output_type": "stream",
     "text": [
      "Approx relative error in Frob norm: 0.000%\n",
      "Approx relative error in Frob norm: 0.009%\n"
     ]
    }
   ],
   "source": [
    "relative_enorm_F = enorm_F /  np.linalg.norm(Z, ord='fro') ** 2\n",
    "print(f'Approx relative error in Frob norm: {(1 - explained_var_2comp) * 100:.3f}%')\n",
    "print(f'Approx relative error in Frob norm: {(relative_enorm_F):.3f}%')"
   ]
  },
  {
   "cell_type": "markdown",
   "metadata": {},
   "source": [
    "*Сравнить матрицы корреляций признаков для матрицы Z и матрицы Z k . Оценить качество аппроксимации по близости матриц корреляций*"
   ]
  },
  {
   "cell_type": "code",
   "execution_count": 21,
   "metadata": {},
   "outputs": [],
   "source": [
    "df_approx_K = pd.DataFrame(Z_K, columns=df.columns)"
   ]
  },
  {
   "cell_type": "code",
   "execution_count": 22,
   "metadata": {},
   "outputs": [
    {
     "data": {
      "text/html": [
       "<div>\n",
       "<style scoped>\n",
       "    .dataframe tbody tr th:only-of-type {\n",
       "        vertical-align: middle;\n",
       "    }\n",
       "\n",
       "    .dataframe tbody tr th {\n",
       "        vertical-align: top;\n",
       "    }\n",
       "\n",
       "    .dataframe thead th {\n",
       "        text-align: right;\n",
       "    }\n",
       "</style>\n",
       "<table border=\"1\" class=\"dataframe\">\n",
       "  <thead>\n",
       "    <tr style=\"text-align: right;\">\n",
       "      <th></th>\n",
       "      <th>age</th>\n",
       "      <th>dependents</th>\n",
       "      <th>income</th>\n",
       "      <th>residence</th>\n",
       "      <th>car_valuation</th>\n",
       "      <th>loan_amount</th>\n",
       "    </tr>\n",
       "  </thead>\n",
       "  <tbody>\n",
       "    <tr>\n",
       "      <th>age</th>\n",
       "      <td>1.000</td>\n",
       "      <td>0.819</td>\n",
       "      <td>-0.225</td>\n",
       "      <td>0.987</td>\n",
       "      <td>-0.132</td>\n",
       "      <td>-0.168</td>\n",
       "    </tr>\n",
       "    <tr>\n",
       "      <th>dependents</th>\n",
       "      <td>0.819</td>\n",
       "      <td>1.000</td>\n",
       "      <td>0.285</td>\n",
       "      <td>0.738</td>\n",
       "      <td>0.372</td>\n",
       "      <td>0.338</td>\n",
       "    </tr>\n",
       "    <tr>\n",
       "      <th>income</th>\n",
       "      <td>-0.225</td>\n",
       "      <td>0.285</td>\n",
       "      <td>1.000</td>\n",
       "      <td>-0.363</td>\n",
       "      <td>0.995</td>\n",
       "      <td>0.998</td>\n",
       "    </tr>\n",
       "    <tr>\n",
       "      <th>residence</th>\n",
       "      <td>0.987</td>\n",
       "      <td>0.738</td>\n",
       "      <td>-0.363</td>\n",
       "      <td>1.000</td>\n",
       "      <td>-0.272</td>\n",
       "      <td>-0.307</td>\n",
       "    </tr>\n",
       "    <tr>\n",
       "      <th>car_valuation</th>\n",
       "      <td>-0.132</td>\n",
       "      <td>0.372</td>\n",
       "      <td>0.995</td>\n",
       "      <td>-0.272</td>\n",
       "      <td>1.000</td>\n",
       "      <td>0.999</td>\n",
       "    </tr>\n",
       "    <tr>\n",
       "      <th>loan_amount</th>\n",
       "      <td>-0.168</td>\n",
       "      <td>0.338</td>\n",
       "      <td>0.998</td>\n",
       "      <td>-0.307</td>\n",
       "      <td>0.999</td>\n",
       "      <td>1.000</td>\n",
       "    </tr>\n",
       "  </tbody>\n",
       "</table>\n",
       "</div>"
      ],
      "text/plain": [
       "                 age  dependents  income  residence  car_valuation  \\\n",
       "age            1.000       0.819  -0.225      0.987         -0.132   \n",
       "dependents     0.819       1.000   0.285      0.738          0.372   \n",
       "income        -0.225       0.285   1.000     -0.363          0.995   \n",
       "residence      0.987       0.738  -0.363      1.000         -0.272   \n",
       "car_valuation -0.132       0.372   0.995     -0.272          1.000   \n",
       "loan_amount   -0.168       0.338   0.998     -0.307          0.999   \n",
       "\n",
       "               loan_amount  \n",
       "age                 -0.168  \n",
       "dependents           0.338  \n",
       "income               0.998  \n",
       "residence           -0.307  \n",
       "car_valuation        0.999  \n",
       "loan_amount          1.000  "
      ]
     },
     "execution_count": 22,
     "metadata": {},
     "output_type": "execute_result"
    }
   ],
   "source": [
    "Z_corr = df_normalized.corr()\n",
    "np.around(df_normalized.corr(), 3)"
   ]
  },
  {
   "cell_type": "code",
   "execution_count": 24,
   "metadata": {},
   "outputs": [
    {
     "data": {
      "text/html": [
       "<div>\n",
       "<style scoped>\n",
       "    .dataframe tbody tr th:only-of-type {\n",
       "        vertical-align: middle;\n",
       "    }\n",
       "\n",
       "    .dataframe tbody tr th {\n",
       "        vertical-align: top;\n",
       "    }\n",
       "\n",
       "    .dataframe thead th {\n",
       "        text-align: right;\n",
       "    }\n",
       "</style>\n",
       "<table border=\"1\" class=\"dataframe\">\n",
       "  <thead>\n",
       "    <tr style=\"text-align: right;\">\n",
       "      <th></th>\n",
       "      <th>age</th>\n",
       "      <th>dependents</th>\n",
       "      <th>income</th>\n",
       "      <th>residence</th>\n",
       "      <th>car_valuation</th>\n",
       "      <th>loan_amount</th>\n",
       "    </tr>\n",
       "  </thead>\n",
       "  <tbody>\n",
       "    <tr>\n",
       "      <th>age</th>\n",
       "      <td>1.000</td>\n",
       "      <td>0.997</td>\n",
       "      <td>0.132</td>\n",
       "      <td>0.891</td>\n",
       "      <td>0.166</td>\n",
       "      <td>0.154</td>\n",
       "    </tr>\n",
       "    <tr>\n",
       "      <th>dependents</th>\n",
       "      <td>0.997</td>\n",
       "      <td>1.000</td>\n",
       "      <td>0.206</td>\n",
       "      <td>0.854</td>\n",
       "      <td>0.239</td>\n",
       "      <td>0.227</td>\n",
       "    </tr>\n",
       "    <tr>\n",
       "      <th>income</th>\n",
       "      <td>0.132</td>\n",
       "      <td>0.206</td>\n",
       "      <td>1.000</td>\n",
       "      <td>-0.333</td>\n",
       "      <td>0.999</td>\n",
       "      <td>1.000</td>\n",
       "    </tr>\n",
       "    <tr>\n",
       "      <th>residence</th>\n",
       "      <td>0.891</td>\n",
       "      <td>0.854</td>\n",
       "      <td>-0.333</td>\n",
       "      <td>1.000</td>\n",
       "      <td>-0.301</td>\n",
       "      <td>-0.312</td>\n",
       "    </tr>\n",
       "    <tr>\n",
       "      <th>car_valuation</th>\n",
       "      <td>0.166</td>\n",
       "      <td>0.239</td>\n",
       "      <td>0.999</td>\n",
       "      <td>-0.301</td>\n",
       "      <td>1.000</td>\n",
       "      <td>1.000</td>\n",
       "    </tr>\n",
       "    <tr>\n",
       "      <th>loan_amount</th>\n",
       "      <td>0.154</td>\n",
       "      <td>0.227</td>\n",
       "      <td>1.000</td>\n",
       "      <td>-0.312</td>\n",
       "      <td>1.000</td>\n",
       "      <td>1.000</td>\n",
       "    </tr>\n",
       "  </tbody>\n",
       "</table>\n",
       "</div>"
      ],
      "text/plain": [
       "                 age  dependents  income  residence  car_valuation  \\\n",
       "age            1.000       0.997   0.132      0.891          0.166   \n",
       "dependents     0.997       1.000   0.206      0.854          0.239   \n",
       "income         0.132       0.206   1.000     -0.333          0.999   \n",
       "residence      0.891       0.854  -0.333      1.000         -0.301   \n",
       "car_valuation  0.166       0.239   0.999     -0.301          1.000   \n",
       "loan_amount    0.154       0.227   1.000     -0.312          1.000   \n",
       "\n",
       "               loan_amount  \n",
       "age                  0.154  \n",
       "dependents           0.227  \n",
       "income               1.000  \n",
       "residence           -0.312  \n",
       "car_valuation        1.000  \n",
       "loan_amount          1.000  "
      ]
     },
     "execution_count": 24,
     "metadata": {},
     "output_type": "execute_result"
    }
   ],
   "source": [
    "Z_K_corr = df_approx_K.corr()\n",
    "np.around(df_approx_K.corr(), 3)"
   ]
  },
  {
   "cell_type": "code",
   "execution_count": 25,
   "metadata": {},
   "outputs": [
    {
     "name": "stdout",
     "output_type": "stream",
     "text": [
      "Approx error in Fro norm: 0.826\n",
      "Approx error in Euclidian norm: 0.679\n"
     ]
    }
   ],
   "source": [
    "corr_errors = Z_corr - Z_K_corr\n",
    "ecorr_norm_F = np.linalg.norm(corr_errors, ord='fro') ** 2\n",
    "ecorr_norm_2 = np.linalg.norm(corr_errors, ord=2)\n",
    "\n",
    "print(f'Approx error in Fro norm: {ecorr_norm_F:.3f}')\n",
    "print(f'Approx error in Euclidian norm: {ecorr_norm_2:.3f}')"
   ]
  },
  {
   "cell_type": "markdown",
   "metadata": {},
   "source": [
    "**Visualization**\n",
    "\n",
    "- *Используя выделенные главные факторы, найти представления клиентов векторами меньшей размерности (размерности k).*\n",
    "- *Используя представление клиентов векторами меньшей размерности, построить карту клиентов. Сделать выводы о клиентах банка.*"
   ]
  },
  {
   "cell_type": "code",
   "execution_count": 26,
   "metadata": {},
   "outputs": [
    {
     "data": {
      "text/plain": [
       "array([[-0.16365566, -0.17058968],\n",
       "       [-0.17106441,  0.17860289],\n",
       "       [-0.09492935, -0.04908803],\n",
       "       [-0.13711726, -0.07227935],\n",
       "       [-0.18911208, -0.16968201]])"
      ]
     },
     "execution_count": 26,
     "metadata": {},
     "output_type": "execute_result"
    }
   ],
   "source": [
    "comp_K = U[:, :K]\n",
    "comp_K[:5]"
   ]
  },
  {
   "cell_type": "code",
   "execution_count": 27,
   "metadata": {},
   "outputs": [
    {
     "data": {
      "image/png": "[encoded data removed]",
      "text/plain": [
       "<Figure size 648x432 with 1 Axes>"
      ]
     },
     "metadata": {},
     "output_type": "display_data"
    }
   ],
   "source": [
    "plt.figure(figsize=(9, 6))\n",
    "plt.scatter(comp_K[:, 0], comp_K[:, 1], label='Clients', edgecolors='black')\n",
    "plt.legend()\n",
    "plt.ylabel('Component 2')\n",
    "plt.xlabel('Component 1')\n",
    "plt.show()"
   ]
  },
  {
   "cell_type": "code",
   "execution_count": 612,
   "metadata": {},
   "outputs": [],
   "source": [
    "# def draw_vector(v0, v1, ax=None):\n",
    "# #     ax = ax or plt.gca()\n",
    "#     arrowprops=dict(arrowstyle='<-',\n",
    "#                     linewidth=2,\n",
    "#                     shrinkA=0, shrinkB=0,\n",
    "#                     color='black')\n",
    "#     plt.annotate('', v0, v1, arrowprops=arrowprops)\n",
    "\n",
    "# plt.scatter(comp_K[:, 0], comp_K[:, 1], label='Clients', edgecolors='black')\n",
    "# _mean = comp_K.mean(axis=0)\n",
    "# for length, vector in zip(S[:2], VT[:2, :2].T):\n",
    "#     print(vector, _mean)\n",
    "#     print(length, _mean, _mean + vector)\n",
    "#     v = vector * 0.5\n",
    "#     draw_vector(_mean, _mean + v)\n",
    "    \n",
    "# plt.axis('equal')\n",
    "# plt.show()"
   ]
  },
  {
   "cell_type": "markdown",
   "metadata": {},
   "source": [
    "# 3. Latent factors analysis"
   ]
  },
  {
   "cell_type": "markdown",
   "metadata": {},
   "source": [
    "- Выписать матрицу коэффициентов разложения признаков z j по главным факторам. Исследовать\n",
    "структуру этой матрицы с целью выделения групп признаков тесно связанных с каждым из\n",
    "главных факторов.\n",
    "- На основе анализа структуры матрицы коэффициентов разложения, предложить интерпретацию\n",
    "выделенным главным факторам.\n",
    "- Дать интерпретацию построенной выше карте клиентов.\n",
    "- Выполнить вращения в пространстве главных факторов с целью улучшения структуры матрицы\n",
    "коэффициентов разложения признаков z j по главным факторам. В случае улучшения структуры,\n",
    "найти новое представление клиентов векторами меньшей размерности (размерности k).\n",
    "Построить улучшенную карту клиентов и дать ее интерпретацию."
   ]
  },
  {
   "cell_type": "markdown",
   "metadata": {},
   "source": [
    "*Выписать матрицу коэффициентов разложения признаков z j по главным факторам.*"
   ]
  },
  {
   "cell_type": "code",
   "execution_count": 171,
   "metadata": {},
   "outputs": [
    {
     "data": {
      "text/plain": [
       "array([[-0.96371062, -0.22444133],\n",
       "       [-0.96434137, -0.19952749],\n",
       "       [-0.95634972,  0.29137546],\n",
       "       [-0.89749176, -0.43836638],\n",
       "       [-0.96327974,  0.26783823],\n",
       "       [-0.96102749,  0.27624531]])"
      ]
     },
     "execution_count": 171,
     "metadata": {},
     "output_type": "execute_result"
    }
   ],
   "source": [
    "K = 2\n",
    "S_2 = np.diag(S[:K])\n",
    "VT_2 = VT[:K,:]\n",
    "A = S_2.dot(VT_2)\n",
    "A.T"
   ]
  },
  {
   "cell_type": "code",
   "execution_count": 68,
   "metadata": {},
   "outputs": [
    {
     "data": {
      "text/plain": [
       "array([['age'],\n",
       "       ['dependents'],\n",
       "       ['income'],\n",
       "       ['residence'],\n",
       "       ['car_valuation'],\n",
       "       ['loan_amount']], dtype=object)"
      ]
     },
     "execution_count": 68,
     "metadata": {},
     "output_type": "execute_result"
    }
   ],
   "source": [
    "np.array([df_normalized.columns]).T"
   ]
  },
  {
   "cell_type": "markdown",
   "metadata": {},
   "source": [
    "*На основе анализа структуры матрицы коэффициентов разложения, предложить интерпретацию выделенным главным факторам*"
   ]
  },
  {
   "cell_type": "markdown",
   "metadata": {},
   "source": [
    "**Комментарий:** Видно, что второй главный фактор имеет корреляцию со столбцами 'доход', 'стоимость автомобиля' и 'размер кредита'. Таким образом второй главный фактор можно интерпретировать, как 'уровень финансового состояния заёмщика'\n",
    "\n",
    "С интерпретацией первого главного фактора неоднознаяная ситуация, по матрице нагрузок видно, что первый главный фактор не коррелирует не с одним из признаков."
   ]
  },
  {
   "cell_type": "markdown",
   "metadata": {},
   "source": [
    "*Дать интерпретацию построенной выше карте клиентов.*"
   ]
  },
  {
   "cell_type": "code",
   "execution_count": 72,
   "metadata": {},
   "outputs": [
    {
     "data": {
      "image/png": "[encoded data removed]",
      "text/plain": [
       "<Figure size 648x432 with 1 Axes>"
      ]
     },
     "metadata": {},
     "output_type": "display_data"
    }
   ],
   "source": [
    "plt.figure(figsize=(9, 6))\n",
    "plt.scatter(comp_K[:, 0], comp_K[:, 1], label='Clients', edgecolors='black')\n",
    "plt.legend()\n",
    "plt.ylabel('Component 2')\n",
    "plt.xlabel('Component 1')\n",
    "plt.show()"
   ]
  },
  {
   "cell_type": "markdown",
   "metadata": {},
   "source": [
    "**Комментарий:** Можно предположить, что Component2 в на данном графике иллюстрирует разбиение клиентов на 2 группы (граница которой проходит по 0), группы более и менее финансово обеспеченных клиентов банка"
   ]
  },
  {
   "cell_type": "markdown",
   "metadata": {},
   "source": [
    "*Выполнить вращения в пространстве главных факторов с целью улучшения структуры матрицы коэффициентов разложения признаков z j по главным факторам. В случае улучшения структуры, найти новое представление клиентов векторами меньшей размерности (размерности k). Построить улучшенную карту клиентов и дать ее интерпретацию.*"
   ]
  },
  {
   "cell_type": "markdown",
   "metadata": {},
   "source": [
    "**Комментарий:** Для выполнения данного пункта воспользуемся библиотекой https://github.com/EducationalTestingService/factor_analyzer\n",
    "Которая имеет функционал по вращению матрицы нагрузок и поддерживает методы:\n",
    "```\n",
    "            (a) varimax (orthogonal rotation)\n",
    "            (b) promax (oblique rotation)\n",
    "            (c) oblimin (oblique rotation)\n",
    "            (d) oblimax (orthogonal rotation)\n",
    "            (e) quartimin (oblique rotation)\n",
    "            (f) quartimax (orthogonal rotation)\n",
    "            (g) equamax (orthogonal rotation)\n",
    "            (h) geomin_obl (oblique rotation)\n",
    "            (i) geomin_ort (orthogonal rotation)\n",
    "```"
   ]
  },
  {
   "cell_type": "code",
   "execution_count": 89,
   "metadata": {},
   "outputs": [],
   "source": [
    "from factor_analyzer import Rotator\n",
    "from factor_analyzer.rotator import ORTHOGONAL_ROTATIONS, OBLIQUE_ROTATIONS "
   ]
  },
  {
   "cell_type": "code",
   "execution_count": 92,
   "metadata": {},
   "outputs": [],
   "source": [
    "rotations = ORTHOGONAL_ROTATIONS + OBLIQUE_ROTATIONS\n",
    "rotated_loadings = {}"
   ]
  },
  {
   "cell_type": "code",
   "execution_count": 191,
   "metadata": {},
   "outputs": [],
   "source": [
    "for rotation_method in rotations:\n",
    "    rotator = Rotator(method=rotation_method, max_iter=1)\n",
    "    rotated_A = rotator.fit_transform(A)\n",
    "    rotated_loadings[rotation_method] = {\"loading\" : np.around(rotated_A.T, 2), \"rotation\": rotator.rotation_}\n",
    "    # print(f\"method: {rotation_method}\")\n",
    "    # print(rotated_loadings[rotation_method][\"loading\"])"
   ]
  },
  {
   "cell_type": "code",
   "execution_count": 192,
   "metadata": {},
   "outputs": [
    {
     "data": {
      "text/plain": [
       "array([[-1.1 , -0.3 ],\n",
       "       [-1.12, -0.25],\n",
       "       [-0.91,  0.18],\n",
       "       [ 0.29, -0.54],\n",
       "       [-1.03,  0.13],\n",
       "       [-0.99,  0.15]])"
      ]
     },
     "execution_count": 192,
     "metadata": {},
     "output_type": "execute_result"
    }
   ],
   "source": [
    "rotated_loadings[\"geomin_ort\"][\"loading\"]"
   ]
  },
  {
   "cell_type": "code",
   "execution_count": 148,
   "metadata": {},
   "outputs": [
    {
     "data": {
      "text/plain": [
       "array([['age'],\n",
       "       ['dependents'],\n",
       "       ['income'],\n",
       "       ['residence'],\n",
       "       ['car_valuation'],\n",
       "       ['loan_amount']], dtype=object)"
      ]
     },
     "execution_count": 148,
     "metadata": {},
     "output_type": "execute_result"
    }
   ],
   "source": [
    "np.array([df_normalized.columns]).T"
   ]
  },
  {
   "cell_type": "markdown",
   "metadata": {},
   "source": [
    "**Комментарий:** Проведя эксперименты с разными видами поворотов матриццы нагрузок получили новый вариант матрицы, значения которой могут быть интерпретированы, как второй главный фактор - всё также отвечает за финансовое состояние заёмщика. А первая компонента отвечает за срок его проживания в регионе.\n",
    "\n",
    "**Открытый вопрос:** почему значения после поворотов в матрице нагрузок < -1.0, если это корреляции. Возможно, ответ кроется в алгоритме 'gemin_ort', но это я пока не изучил"
   ]
  },
  {
   "cell_type": "code",
   "execution_count": 194,
   "metadata": {},
   "outputs": [
    {
     "data": {
      "text/plain": [
       "array([[-0.13770238, -0.13773213],\n",
       "       [-0.1641217 ,  0.18674905],\n",
       "       [-0.07924588, -0.02788644],\n",
       "       [-0.10289875, -0.0356782 ],\n",
       "       [-0.18885281, -0.17184163]])"
      ]
     },
     "execution_count": 194,
     "metadata": {},
     "output_type": "execute_result"
    }
   ],
   "source": [
    "G = rotated_loadings[\"geomin_ort\"][\"rotation\"]\n",
    "comp_K_rotated = U.dot(G)[:, :K]\n",
    "comp_K_rotated[:5]"
   ]
  },
  {
   "cell_type": "code",
   "execution_count": 195,
   "metadata": {},
   "outputs": [
    {
     "data": {
      "image/png": "[encoded data removed]",
      "text/plain": [
       "<Figure size 648x432 with 1 Axes>"
      ]
     },
     "metadata": {},
     "output_type": "display_data"
    }
   ],
   "source": [
    "plt.figure(figsize=(9, 6))\n",
    "plt.scatter(comp_K_rotated[:, 0], comp_K_rotated[:, 1], label='Clients', edgecolors='black')\n",
    "plt.legend()\n",
    "plt.ylabel('Component 2')\n",
    "plt.xlabel('Component 1')\n",
    "plt.show()"
   ]
  },
  {
   "cell_type": "markdown",
   "metadata": {},
   "source": [
    "# 4. Dimensionality reduction with MDS"
   ]
  },
  {
   "cell_type": "markdown",
   "metadata": {},
   "source": [
    "- Предложите способ вычисления расстояния между клиентами и вычислите матрицу\n",
    "расстояний.\n",
    "- Проверьте, можно ли клиентов банка поместить в евклидово пространство размерности 2 с\n",
    "сохранением расстояний между клиентами.\n",
    "- используйте любой из алгоритмов MDS для размещения объектов в евклидовом пространстве\n",
    "размерности 2. Оцените погрешность такого размещения. Постройте карту клиентов.\n",
    "- Сравните с картами клиентов из предыдущих пунктов и сделайте выводы."
   ]
  },
  {
   "cell_type": "code",
   "execution_count": null,
   "metadata": {},
   "outputs": [],
   "source": []
  }
 ],
 "metadata": {
  "kernelspec": {
   "display_name": "Python 3",
   "language": "python",
   "name": "python3"
  },
  "language_info": {
   "codemirror_mode": {
    "name": "ipython",
    "version": 3
   },
   "file_extension": ".py",
   "mimetype": "text/x-python",
   "name": "python",
   "nbconvert_exporter": "python",
   "pygments_lexer": "ipython3",
   "version": "3.7.0"
  }
 },
 "nbformat": 4,
 "nbformat_minor": 4
}
